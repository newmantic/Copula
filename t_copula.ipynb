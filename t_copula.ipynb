{
  "nbformat": 4,
  "nbformat_minor": 0,
  "metadata": {
    "colab": {
      "provenance": [],
      "authorship_tag": "ABX9TyPboTaobeFkIPvnh34sJWPS",
      "include_colab_link": true
    },
    "kernelspec": {
      "name": "python3",
      "display_name": "Python 3"
    },
    "language_info": {
      "name": "python"
    }
  },
  "cells": [
    {
      "cell_type": "markdown",
      "metadata": {
        "id": "view-in-github",
        "colab_type": "text"
      },
      "source": [
        "<a href=\"https://colab.research.google.com/github/newmantic/Copula/blob/main/t_copula.ipynb\" target=\"_parent\"><img src=\"https://colab.research.google.com/assets/colab-badge.svg\" alt=\"Open In Colab\"/></a>"
      ]
    },
    {
      "cell_type": "code",
      "execution_count": 2,
      "metadata": {
        "colab": {
          "base_uri": "https://localhost:8080/"
        },
        "id": "RZx71rLvu02M",
        "outputId": "4e41d916-77be-4b43-e48f-119fc9b6a7eb"
      },
      "outputs": [
        {
          "output_type": "stream",
          "name": "stdout",
          "text": [
            "t-Copula Joint Probability: 0.4414\n"
          ]
        }
      ],
      "source": [
        "import numpy as np\n",
        "from scipy.stats import norm, multivariate_normal\n",
        "\n",
        "def t_copula(u, v, rho, df):\n",
        "    \"\"\"\n",
        "    t-Copula function.\n",
        "\n",
        "    Parameters:\n",
        "    - u: First uniform marginal distribution value (in range [0, 1]).\n",
        "    - v: Second uniform marginal distribution value (in range [0, 1]).\n",
        "    - rho: The correlation coefficient between the two variables.\n",
        "    - df: Degrees of freedom for the t-distribution.\n",
        "\n",
        "    Returns:\n",
        "    - joint_probability: The joint probability under the t-Copula.\n",
        "    \"\"\"\n",
        "    # Convert uniform marginals to t-distribution marginals\n",
        "    t1 = student_t.ppf(u, df)\n",
        "    t2 = student_t.ppf(v, df)\n",
        "\n",
        "    # Calculate joint probability using bivariate t-distribution\n",
        "    joint_probability = multivariate_normal.cdf([t1, t2], mean=[0, 0], cov=[[1, rho], [rho, 1]])\n",
        "\n",
        "    return joint_probability\n",
        "\n",
        "# Test Example\n",
        "u = 0.5  # 50th percentile\n",
        "v = 0.7  # 70th percentile\n",
        "rho = 0.6  # Correlation coefficient\n",
        "df = 5  # Degrees of freedom for t-distribution\n",
        "\n",
        "joint_prob_t = t_copula(u, v, rho, df)\n",
        "print(f\"t-Copula Joint Probability: {joint_prob_t:.4f}\")"
      ]
    }
  ]
}